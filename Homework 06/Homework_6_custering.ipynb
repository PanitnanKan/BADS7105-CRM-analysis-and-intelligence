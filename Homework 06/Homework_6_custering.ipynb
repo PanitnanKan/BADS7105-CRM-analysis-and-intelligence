{
  "nbformat": 4,
  "nbformat_minor": 0,
  "metadata": {
    "colab": {
      "name": "Homework_6_custering.ipynb",
      "provenance": [],
      "authorship_tag": "ABX9TyO3q4fodp0NBd6JDreSyu6+",
      "include_colab_link": true
    },
    "kernelspec": {
      "display_name": "Python 3",
      "name": "python3"
    },
    "language_info": {
      "name": "python"
    }
  },
  "cells": [
    {
      "cell_type": "markdown",
      "metadata": {
        "id": "view-in-github",
        "colab_type": "text"
      },
      "source": [
        "<a href=\"https://colab.research.google.com/github/PanitnanKan/BADS7105-CRM-analysis-and-intelligence/blob/main/Homework%2006/Homework_6_custering.ipynb\" target=\"_parent\"><img src=\"https://colab.research.google.com/assets/colab-badge.svg\" alt=\"Open In Colab\"/></a>"
      ]
    },
    {
      "cell_type": "markdown",
      "metadata": {
        "id": "mi1bh7cyNb7e"
      },
      "source": [
        ""
      ]
    },
    {
      "cell_type": "code",
      "metadata": {
        "id": "bTUfa6D5Kuce"
      },
      "source": [
        "import pandas as pd\n",
        "import matplotlib.pyplot as plt\n",
        "import seaborn as sns\n",
        "from sklearn.preprocessing import StandardScaler\n",
        "from sklearn.cluster import KMeans"
      ],
      "execution_count": null,
      "outputs": []
    },
    {
      "cell_type": "code",
      "metadata": {
        "colab": {
          "base_uri": "https://localhost:8080/",
          "height": 224
        },
        "id": "jQuKz9ynMpU6",
        "outputId": "189435c8-b278-4b06-82e6-0f3d97d1edba"
      },
      "source": [
        "df = pd.read_csv('Supermarket Data.csv')\n",
        "df.dropna(inplace = True)\n",
        "df.head()"
      ],
      "execution_count": null,
      "outputs": [
        {
          "output_type": "execute_result",
          "data": {
            "text/html": [
              "<div>\n",
              "<style scoped>\n",
              "    .dataframe tbody tr th:only-of-type {\n",
              "        vertical-align: middle;\n",
              "    }\n",
              "\n",
              "    .dataframe tbody tr th {\n",
              "        vertical-align: top;\n",
              "    }\n",
              "\n",
              "    .dataframe thead th {\n",
              "        text-align: right;\n",
              "    }\n",
              "</style>\n",
              "<table border=\"1\" class=\"dataframe\">\n",
              "  <thead>\n",
              "    <tr style=\"text-align: right;\">\n",
              "      <th></th>\n",
              "      <th>SHOP_WEEK</th>\n",
              "      <th>SHOP_DATE</th>\n",
              "      <th>SHOP_WEEKDAY</th>\n",
              "      <th>SHOP_HOUR</th>\n",
              "      <th>QUANTITY</th>\n",
              "      <th>SPEND</th>\n",
              "      <th>PROD_CODE</th>\n",
              "      <th>PROD_CODE_10</th>\n",
              "      <th>PROD_CODE_20</th>\n",
              "      <th>PROD_CODE_30</th>\n",
              "      <th>PROD_CODE_40</th>\n",
              "      <th>CUST_CODE</th>\n",
              "      <th>CUST_PRICE_SENSITIVITY</th>\n",
              "      <th>CUST_LIFESTAGE</th>\n",
              "      <th>BASKET_ID</th>\n",
              "      <th>BASKET_SIZE</th>\n",
              "      <th>BASKET_PRICE_SENSITIVITY</th>\n",
              "      <th>BASKET_TYPE</th>\n",
              "      <th>BASKET_DOMINANT_MISSION</th>\n",
              "      <th>STORE_CODE</th>\n",
              "      <th>STORE_FORMAT</th>\n",
              "      <th>STORE_REGION</th>\n",
              "    </tr>\n",
              "  </thead>\n",
              "  <tbody>\n",
              "    <tr>\n",
              "      <th>0</th>\n",
              "      <td>200732</td>\n",
              "      <td>20071005</td>\n",
              "      <td>6</td>\n",
              "      <td>17</td>\n",
              "      <td>3</td>\n",
              "      <td>6.75</td>\n",
              "      <td>PRD0900001</td>\n",
              "      <td>CL00072</td>\n",
              "      <td>DEP00021</td>\n",
              "      <td>G00007</td>\n",
              "      <td>D00002</td>\n",
              "      <td>CUST0000583261</td>\n",
              "      <td>UM</td>\n",
              "      <td>YF</td>\n",
              "      <td>9.941078e+14</td>\n",
              "      <td>L</td>\n",
              "      <td>MM</td>\n",
              "      <td>Top Up</td>\n",
              "      <td>Grocery</td>\n",
              "      <td>STORE00001</td>\n",
              "      <td>LS</td>\n",
              "      <td>E02</td>\n",
              "    </tr>\n",
              "    <tr>\n",
              "      <th>1</th>\n",
              "      <td>200733</td>\n",
              "      <td>20071010</td>\n",
              "      <td>4</td>\n",
              "      <td>20</td>\n",
              "      <td>3</td>\n",
              "      <td>6.75</td>\n",
              "      <td>PRD0900001</td>\n",
              "      <td>CL00072</td>\n",
              "      <td>DEP00021</td>\n",
              "      <td>G00007</td>\n",
              "      <td>D00002</td>\n",
              "      <td>CUST0000537317</td>\n",
              "      <td>MM</td>\n",
              "      <td>OF</td>\n",
              "      <td>9.941079e+14</td>\n",
              "      <td>L</td>\n",
              "      <td>MM</td>\n",
              "      <td>Full Shop</td>\n",
              "      <td>Fresh</td>\n",
              "      <td>STORE00001</td>\n",
              "      <td>LS</td>\n",
              "      <td>E02</td>\n",
              "    </tr>\n",
              "    <tr>\n",
              "      <th>2</th>\n",
              "      <td>200741</td>\n",
              "      <td>20071209</td>\n",
              "      <td>1</td>\n",
              "      <td>11</td>\n",
              "      <td>1</td>\n",
              "      <td>2.25</td>\n",
              "      <td>PRD0900001</td>\n",
              "      <td>CL00072</td>\n",
              "      <td>DEP00021</td>\n",
              "      <td>G00007</td>\n",
              "      <td>D00002</td>\n",
              "      <td>CUST0000472158</td>\n",
              "      <td>MM</td>\n",
              "      <td>YF</td>\n",
              "      <td>9.941087e+14</td>\n",
              "      <td>L</td>\n",
              "      <td>MM</td>\n",
              "      <td>Full Shop</td>\n",
              "      <td>Grocery</td>\n",
              "      <td>STORE00001</td>\n",
              "      <td>LS</td>\n",
              "      <td>E02</td>\n",
              "    </tr>\n",
              "    <tr>\n",
              "      <th>3</th>\n",
              "      <td>200731</td>\n",
              "      <td>20070929</td>\n",
              "      <td>7</td>\n",
              "      <td>17</td>\n",
              "      <td>1</td>\n",
              "      <td>2.25</td>\n",
              "      <td>PRD0900001</td>\n",
              "      <td>CL00072</td>\n",
              "      <td>DEP00021</td>\n",
              "      <td>G00007</td>\n",
              "      <td>D00002</td>\n",
              "      <td>CUST0000099658</td>\n",
              "      <td>LA</td>\n",
              "      <td>OF</td>\n",
              "      <td>9.941077e+14</td>\n",
              "      <td>L</td>\n",
              "      <td>LA</td>\n",
              "      <td>Full Shop</td>\n",
              "      <td>Mixed</td>\n",
              "      <td>STORE00001</td>\n",
              "      <td>LS</td>\n",
              "      <td>E02</td>\n",
              "    </tr>\n",
              "    <tr>\n",
              "      <th>6</th>\n",
              "      <td>200731</td>\n",
              "      <td>20070929</td>\n",
              "      <td>7</td>\n",
              "      <td>18</td>\n",
              "      <td>1</td>\n",
              "      <td>2.25</td>\n",
              "      <td>PRD0900001</td>\n",
              "      <td>CL00072</td>\n",
              "      <td>DEP00021</td>\n",
              "      <td>G00007</td>\n",
              "      <td>D00002</td>\n",
              "      <td>CUST0000099658</td>\n",
              "      <td>LA</td>\n",
              "      <td>OF</td>\n",
              "      <td>9.941077e+14</td>\n",
              "      <td>L</td>\n",
              "      <td>MM</td>\n",
              "      <td>Full Shop</td>\n",
              "      <td>Fresh</td>\n",
              "      <td>STORE00001</td>\n",
              "      <td>LS</td>\n",
              "      <td>E02</td>\n",
              "    </tr>\n",
              "  </tbody>\n",
              "</table>\n",
              "</div>"
            ],
            "text/plain": [
              "   SHOP_WEEK  SHOP_DATE  SHOP_WEEKDAY  ...  STORE_CODE  STORE_FORMAT  STORE_REGION\n",
              "0     200732   20071005             6  ...  STORE00001            LS           E02\n",
              "1     200733   20071010             4  ...  STORE00001            LS           E02\n",
              "2     200741   20071209             1  ...  STORE00001            LS           E02\n",
              "3     200731   20070929             7  ...  STORE00001            LS           E02\n",
              "6     200731   20070929             7  ...  STORE00001            LS           E02\n",
              "\n",
              "[5 rows x 22 columns]"
            ]
          },
          "metadata": {
            "tags": []
          },
          "execution_count": 2
        }
      ]
    },
    {
      "cell_type": "code",
      "metadata": {
        "id": "h8_rK1lBhxwY"
      },
      "source": [
        "total_spend = df.groupby(['CUST_CODE']).sum()[\"SPEND\"]\n",
        "total_visit = df.groupby(['CUST_CODE'])['BASKET_ID'].nunique()\n",
        "total_quantity = df.groupby(['CUST_CODE']).sum()[\"QUANTITY\"]\n",
        "mean_quantity = df.groupby(['CUST_CODE']).mean()[\"QUANTITY\"]\n",
        "mean_spend = df.groupby(['CUST_CODE']).mean()[\"SPEND\"]\n",
        "total_spend_list = total_spend.tolist()\n",
        "total_visit_list = total_visit.tolist()\n",
        "total_quantity_list = total_quantity.tolist()\n",
        "mean_quantity_list = mean_quantity.tolist()\n",
        "mean_spend_list = mean_spend.tolist()"
      ],
      "execution_count": null,
      "outputs": []
    },
    {
      "cell_type": "code",
      "metadata": {
        "colab": {
          "base_uri": "https://localhost:8080/",
          "height": 425
        },
        "id": "XQv6DBh6jhTg",
        "outputId": "89eabe20-ef02-4738-b3cb-f4d18702e1a0"
      },
      "source": [
        "cust = df.groupby(['CUST_CODE'], as_index=False).count()\n",
        "cust['total_spend'] = total_spend_list\n",
        "cust['total_visit'] = total_visit_list\n",
        "cust['total_quantity'] = total_quantity_list\n",
        "cust['avg_quantity'] = mean_quantity_list\n",
        "cust['avg_spend'] = mean_spend_list\n",
        "cust = cust.drop(['SHOP_WEEK', 'SHOP_DATE','SHOP_WEEKDAY','SHOP_HOUR','QUANTITY','SPEND','PROD_CODE','PROD_CODE_10','PROD_CODE_20', 'PROD_CODE_30','PROD_CODE_40','CUST_PRICE_SENSITIVITY','CUST_LIFESTAGE','BASKET_ID','BASKET_SIZE','BASKET_PRICE_SENSITIVITY','BASKET_TYPE','BASKET_DOMINANT_MISSION','STORE_CODE','STORE_FORMAT','STORE_REGION'], axis=1)\n",
        "cust.info()\n",
        "cust.head()"
      ],
      "execution_count": null,
      "outputs": [
        {
          "output_type": "stream",
          "text": [
            "<class 'pandas.core.frame.DataFrame'>\n",
            "Int64Index: 2253 entries, 0 to 2252\n",
            "Data columns (total 6 columns):\n",
            " #   Column          Non-Null Count  Dtype  \n",
            "---  ------          --------------  -----  \n",
            " 0   CUST_CODE       2253 non-null   object \n",
            " 1   total_spend     2253 non-null   float64\n",
            " 2   total_visit     2253 non-null   int64  \n",
            " 3   total_quantity  2253 non-null   int64  \n",
            " 4   avg_quantity    2253 non-null   float64\n",
            " 5   avg_spend       2253 non-null   float64\n",
            "dtypes: float64(3), int64(2), object(1)\n",
            "memory usage: 123.2+ KB\n"
          ],
          "name": "stdout"
        },
        {
          "output_type": "execute_result",
          "data": {
            "text/html": [
              "<div>\n",
              "<style scoped>\n",
              "    .dataframe tbody tr th:only-of-type {\n",
              "        vertical-align: middle;\n",
              "    }\n",
              "\n",
              "    .dataframe tbody tr th {\n",
              "        vertical-align: top;\n",
              "    }\n",
              "\n",
              "    .dataframe thead th {\n",
              "        text-align: right;\n",
              "    }\n",
              "</style>\n",
              "<table border=\"1\" class=\"dataframe\">\n",
              "  <thead>\n",
              "    <tr style=\"text-align: right;\">\n",
              "      <th></th>\n",
              "      <th>CUST_CODE</th>\n",
              "      <th>total_spend</th>\n",
              "      <th>total_visit</th>\n",
              "      <th>total_quantity</th>\n",
              "      <th>avg_quantity</th>\n",
              "      <th>avg_spend</th>\n",
              "    </tr>\n",
              "  </thead>\n",
              "  <tbody>\n",
              "    <tr>\n",
              "      <th>0</th>\n",
              "      <td>CUST0000001194</td>\n",
              "      <td>282.18</td>\n",
              "      <td>68</td>\n",
              "      <td>219</td>\n",
              "      <td>1.386076</td>\n",
              "      <td>1.785949</td>\n",
              "    </tr>\n",
              "    <tr>\n",
              "      <th>1</th>\n",
              "      <td>CUST0000002605</td>\n",
              "      <td>1.80</td>\n",
              "      <td>6</td>\n",
              "      <td>6</td>\n",
              "      <td>1.000000</td>\n",
              "      <td>0.300000</td>\n",
              "    </tr>\n",
              "    <tr>\n",
              "      <th>2</th>\n",
              "      <td>CUST0000002637</td>\n",
              "      <td>35.78</td>\n",
              "      <td>13</td>\n",
              "      <td>26</td>\n",
              "      <td>1.181818</td>\n",
              "      <td>1.626364</td>\n",
              "    </tr>\n",
              "    <tr>\n",
              "      <th>3</th>\n",
              "      <td>CUST0000002638</td>\n",
              "      <td>1.57</td>\n",
              "      <td>1</td>\n",
              "      <td>1</td>\n",
              "      <td>1.000000</td>\n",
              "      <td>1.570000</td>\n",
              "    </tr>\n",
              "    <tr>\n",
              "      <th>4</th>\n",
              "      <td>CUST0000002813</td>\n",
              "      <td>41.95</td>\n",
              "      <td>11</td>\n",
              "      <td>40</td>\n",
              "      <td>1.212121</td>\n",
              "      <td>1.271212</td>\n",
              "    </tr>\n",
              "  </tbody>\n",
              "</table>\n",
              "</div>"
            ],
            "text/plain": [
              "        CUST_CODE  total_spend  ...  avg_quantity  avg_spend\n",
              "0  CUST0000001194       282.18  ...      1.386076   1.785949\n",
              "1  CUST0000002605         1.80  ...      1.000000   0.300000\n",
              "2  CUST0000002637        35.78  ...      1.181818   1.626364\n",
              "3  CUST0000002638         1.57  ...      1.000000   1.570000\n",
              "4  CUST0000002813        41.95  ...      1.212121   1.271212\n",
              "\n",
              "[5 rows x 6 columns]"
            ]
          },
          "metadata": {
            "tags": []
          },
          "execution_count": 5
        }
      ]
    },
    {
      "cell_type": "code",
      "metadata": {
        "colab": {
          "base_uri": "https://localhost:8080/",
          "height": 1000
        },
        "id": "8zetTJkhNPVq",
        "outputId": "567ec0e2-f44a-4d2a-ba1f-275776aa0bd1"
      },
      "source": [
        "for i, col in enumerate(cust.columns[1:]):\n",
        "    plt.figure(i)\n",
        "    sns.distplot(cust[col])\n",
        "    \n",
        "plt.show()"
      ],
      "execution_count": null,
      "outputs": [
        {
          "output_type": "stream",
          "text": [
            "/usr/local/lib/python3.7/dist-packages/seaborn/distributions.py:2557: FutureWarning: `distplot` is a deprecated function and will be removed in a future version. Please adapt your code to use either `displot` (a figure-level function with similar flexibility) or `histplot` (an axes-level function for histograms).\n",
            "  warnings.warn(msg, FutureWarning)\n",
            "/usr/local/lib/python3.7/dist-packages/seaborn/distributions.py:2557: FutureWarning: `distplot` is a deprecated function and will be removed in a future version. Please adapt your code to use either `displot` (a figure-level function with similar flexibility) or `histplot` (an axes-level function for histograms).\n",
            "  warnings.warn(msg, FutureWarning)\n",
            "/usr/local/lib/python3.7/dist-packages/seaborn/distributions.py:2557: FutureWarning: `distplot` is a deprecated function and will be removed in a future version. Please adapt your code to use either `displot` (a figure-level function with similar flexibility) or `histplot` (an axes-level function for histograms).\n",
            "  warnings.warn(msg, FutureWarning)\n",
            "/usr/local/lib/python3.7/dist-packages/seaborn/distributions.py:2557: FutureWarning: `distplot` is a deprecated function and will be removed in a future version. Please adapt your code to use either `displot` (a figure-level function with similar flexibility) or `histplot` (an axes-level function for histograms).\n",
            "  warnings.warn(msg, FutureWarning)\n",
            "/usr/local/lib/python3.7/dist-packages/seaborn/distributions.py:2557: FutureWarning: `distplot` is a deprecated function and will be removed in a future version. Please adapt your code to use either `displot` (a figure-level function with similar flexibility) or `histplot` (an axes-level function for histograms).\n",
            "  warnings.warn(msg, FutureWarning)\n"
          ],
          "name": "stderr"
        },
        {
          "output_type": "display_data",
          "data": {
            "image/png": "[encoded data removed]",
            "text/plain": [
              "<Figure size 432x288 with 1 Axes>"
            ]
          },
          "metadata": {
            "tags": [],
            "needs_background": "light"
          }
        },
        {
          "output_type": "display_data",
          "data": {
            "image/png": "[encoded data removed]",
            "text/plain": [
              "<Figure size 432x288 with 1 Axes>"
            ]
          },
          "metadata": {
            "tags": [],
            "needs_background": "light"
          }
        },
        {
          "output_type": "display_data",
          "data": {
            "image/png": "[encoded data removed]",
            "text/plain": [
              "<Figure size 432x288 with 1 Axes>"
            ]
          },
          "metadata": {
            "tags": [],
            "needs_background": "light"
          }
        },
        {
          "output_type": "display_data",
          "data": {
            "image/png": "[encoded data removed]",
            "text/plain": [
              "<Figure size 432x288 with 1 Axes>"
            ]
          },
          "metadata": {
            "tags": [],
            "needs_background": "light"
          }
        },
        {
          "output_type": "display_data",
          "data": {
            "image/png": "[encoded data removed]",
            "text/plain": [
              "<Figure size 432x288 with 1 Axes>"
            ]
          },
          "metadata": {
            "tags": [],
            "needs_background": "light"
          }
        }
      ]
    },
    {
      "cell_type": "code",
      "metadata": {
        "id": "w2FlLgQfNa39",
        "colab": {
          "base_uri": "https://localhost:8080/",
          "height": 419
        },
        "outputId": "5e737dfe-5028-4f91-b288-aa621fbfe15f"
      },
      "source": [
        "cust_std = pd.DataFrame(StandardScaler().fit_transform(cust[cust.columns[1:]]))\n",
        "cust_std"
      ],
      "execution_count": null,
      "outputs": [
        {
          "output_type": "execute_result",
          "data": {
            "text/html": [
              "<div>\n",
              "<style scoped>\n",
              "    .dataframe tbody tr th:only-of-type {\n",
              "        vertical-align: middle;\n",
              "    }\n",
              "\n",
              "    .dataframe tbody tr th {\n",
              "        vertical-align: top;\n",
              "    }\n",
              "\n",
              "    .dataframe thead th {\n",
              "        text-align: right;\n",
              "    }\n",
              "</style>\n",
              "<table border=\"1\" class=\"dataframe\">\n",
              "  <thead>\n",
              "    <tr style=\"text-align: right;\">\n",
              "      <th></th>\n",
              "      <th>0</th>\n",
              "      <th>1</th>\n",
              "      <th>2</th>\n",
              "      <th>3</th>\n",
              "      <th>4</th>\n",
              "    </tr>\n",
              "  </thead>\n",
              "  <tbody>\n",
              "    <tr>\n",
              "      <th>0</th>\n",
              "      <td>1.349064</td>\n",
              "      <td>1.586965</td>\n",
              "      <td>1.437700</td>\n",
              "      <td>-0.011190</td>\n",
              "      <td>-0.054671</td>\n",
              "    </tr>\n",
              "    <tr>\n",
              "      <th>1</th>\n",
              "      <td>-0.420312</td>\n",
              "      <td>-0.281785</td>\n",
              "      <td>-0.382910</td>\n",
              "      <td>-0.483777</td>\n",
              "      <td>-0.674955</td>\n",
              "    </tr>\n",
              "    <tr>\n",
              "      <th>2</th>\n",
              "      <td>-0.205877</td>\n",
              "      <td>-0.070798</td>\n",
              "      <td>-0.211960</td>\n",
              "      <td>-0.261217</td>\n",
              "      <td>-0.121287</td>\n",
              "    </tr>\n",
              "    <tr>\n",
              "      <th>3</th>\n",
              "      <td>-0.421764</td>\n",
              "      <td>-0.432491</td>\n",
              "      <td>-0.425647</td>\n",
              "      <td>-0.483777</td>\n",
              "      <td>-0.144815</td>\n",
              "    </tr>\n",
              "    <tr>\n",
              "      <th>4</th>\n",
              "      <td>-0.166940</td>\n",
              "      <td>-0.131080</td>\n",
              "      <td>-0.092296</td>\n",
              "      <td>-0.224124</td>\n",
              "      <td>-0.269539</td>\n",
              "    </tr>\n",
              "    <tr>\n",
              "      <th>...</th>\n",
              "      <td>...</td>\n",
              "      <td>...</td>\n",
              "      <td>...</td>\n",
              "      <td>...</td>\n",
              "      <td>...</td>\n",
              "    </tr>\n",
              "    <tr>\n",
              "      <th>2248</th>\n",
              "      <td>0.269945</td>\n",
              "      <td>0.290896</td>\n",
              "      <td>0.471837</td>\n",
              "      <td>-0.266163</td>\n",
              "      <td>-0.284516</td>\n",
              "    </tr>\n",
              "    <tr>\n",
              "      <th>2249</th>\n",
              "      <td>-0.415769</td>\n",
              "      <td>-0.432491</td>\n",
              "      <td>-0.417100</td>\n",
              "      <td>-0.483777</td>\n",
              "      <td>-0.274219</td>\n",
              "    </tr>\n",
              "    <tr>\n",
              "      <th>2250</th>\n",
              "      <td>0.011209</td>\n",
              "      <td>0.260755</td>\n",
              "      <td>0.155581</td>\n",
              "      <td>-0.276306</td>\n",
              "      <td>-0.303652</td>\n",
              "    </tr>\n",
              "    <tr>\n",
              "      <th>2251</th>\n",
              "      <td>-0.018514</td>\n",
              "      <td>-0.070798</td>\n",
              "      <td>0.061558</td>\n",
              "      <td>-0.228761</td>\n",
              "      <td>-0.230824</td>\n",
              "    </tr>\n",
              "    <tr>\n",
              "      <th>2252</th>\n",
              "      <td>-0.407439</td>\n",
              "      <td>-0.372209</td>\n",
              "      <td>-0.408552</td>\n",
              "      <td>-0.483777</td>\n",
              "      <td>-0.265871</td>\n",
              "    </tr>\n",
              "  </tbody>\n",
              "</table>\n",
              "<p>2253 rows × 5 columns</p>\n",
              "</div>"
            ],
            "text/plain": [
              "             0         1         2         3         4\n",
              "0     1.349064  1.586965  1.437700 -0.011190 -0.054671\n",
              "1    -0.420312 -0.281785 -0.382910 -0.483777 -0.674955\n",
              "2    -0.205877 -0.070798 -0.211960 -0.261217 -0.121287\n",
              "3    -0.421764 -0.432491 -0.425647 -0.483777 -0.144815\n",
              "4    -0.166940 -0.131080 -0.092296 -0.224124 -0.269539\n",
              "...        ...       ...       ...       ...       ...\n",
              "2248  0.269945  0.290896  0.471837 -0.266163 -0.284516\n",
              "2249 -0.415769 -0.432491 -0.417100 -0.483777 -0.274219\n",
              "2250  0.011209  0.260755  0.155581 -0.276306 -0.303652\n",
              "2251 -0.018514 -0.070798  0.061558 -0.228761 -0.230824\n",
              "2252 -0.407439 -0.372209 -0.408552 -0.483777 -0.265871\n",
              "\n",
              "[2253 rows x 5 columns]"
            ]
          },
          "metadata": {
            "tags": []
          },
          "execution_count": 7
        }
      ]
    },
    {
      "cell_type": "code",
      "metadata": {
        "colab": {
          "base_uri": "https://localhost:8080/",
          "height": 295
        },
        "id": "hd14qjAL14x3",
        "outputId": "9d99f66e-8893-4404-94f5-47284ee22efb"
      },
      "source": [
        "wcss = []\n",
        "N = range(2, 15)\n",
        "for i in N:\n",
        "    kmeans = KMeans(n_clusters=i) \n",
        "    kmeans.fit_predict(cust_std)\n",
        "    wcss.append(kmeans.inertia_)\n",
        "    \n",
        "plt.plot(N, wcss, 'bo-')\n",
        "plt.title(\"Computing Within-Cluster-Sum-of-Squares (WCSS) for KMeans++\")\n",
        "plt.xlabel(\"Number of clusters\")\n",
        "plt.ylabel(\"WCSS\")\n",
        "plt.show()\n",
        "\n"
      ],
      "execution_count": null,
      "outputs": [
        {
          "output_type": "display_data",
          "data": {
            "image/png": "[encoded data removed]",
            "text/plain": [
              "<Figure size 432x288 with 1 Axes>"
            ]
          },
          "metadata": {
            "tags": [],
            "needs_background": "light"
          }
        }
      ]
    },
    {
      "cell_type": "code",
      "metadata": {
        "colab": {
          "base_uri": "https://localhost:8080/",
          "height": 419
        },
        "id": "bpzo6Vdg3p8n",
        "outputId": "4c268741-d8ad-4d1e-dfc5-d197c2f491c0"
      },
      "source": [
        "cluster = KMeans(n_clusters=7)\n",
        "cust['cluster'] = cluster.fit_predict(cust_std)\n",
        "cust"
      ],
      "execution_count": null,
      "outputs": [
        {
          "output_type": "execute_result",
          "data": {
            "text/html": [
              "<div>\n",
              "<style scoped>\n",
              "    .dataframe tbody tr th:only-of-type {\n",
              "        vertical-align: middle;\n",
              "    }\n",
              "\n",
              "    .dataframe tbody tr th {\n",
              "        vertical-align: top;\n",
              "    }\n",
              "\n",
              "    .dataframe thead th {\n",
              "        text-align: right;\n",
              "    }\n",
              "</style>\n",
              "<table border=\"1\" class=\"dataframe\">\n",
              "  <thead>\n",
              "    <tr style=\"text-align: right;\">\n",
              "      <th></th>\n",
              "      <th>CUST_CODE</th>\n",
              "      <th>total_spend</th>\n",
              "      <th>total_visit</th>\n",
              "      <th>total_quantity</th>\n",
              "      <th>avg_quantity</th>\n",
              "      <th>avg_spend</th>\n",
              "      <th>cluster</th>\n",
              "    </tr>\n",
              "  </thead>\n",
              "  <tbody>\n",
              "    <tr>\n",
              "      <th>0</th>\n",
              "      <td>CUST0000001194</td>\n",
              "      <td>282.18</td>\n",
              "      <td>68</td>\n",
              "      <td>219</td>\n",
              "      <td>1.386076</td>\n",
              "      <td>1.785949</td>\n",
              "      <td>2</td>\n",
              "    </tr>\n",
              "    <tr>\n",
              "      <th>1</th>\n",
              "      <td>CUST0000002605</td>\n",
              "      <td>1.80</td>\n",
              "      <td>6</td>\n",
              "      <td>6</td>\n",
              "      <td>1.000000</td>\n",
              "      <td>0.300000</td>\n",
              "      <td>0</td>\n",
              "    </tr>\n",
              "    <tr>\n",
              "      <th>2</th>\n",
              "      <td>CUST0000002637</td>\n",
              "      <td>35.78</td>\n",
              "      <td>13</td>\n",
              "      <td>26</td>\n",
              "      <td>1.181818</td>\n",
              "      <td>1.626364</td>\n",
              "      <td>0</td>\n",
              "    </tr>\n",
              "    <tr>\n",
              "      <th>3</th>\n",
              "      <td>CUST0000002638</td>\n",
              "      <td>1.57</td>\n",
              "      <td>1</td>\n",
              "      <td>1</td>\n",
              "      <td>1.000000</td>\n",
              "      <td>1.570000</td>\n",
              "      <td>0</td>\n",
              "    </tr>\n",
              "    <tr>\n",
              "      <th>4</th>\n",
              "      <td>CUST0000002813</td>\n",
              "      <td>41.95</td>\n",
              "      <td>11</td>\n",
              "      <td>40</td>\n",
              "      <td>1.212121</td>\n",
              "      <td>1.271212</td>\n",
              "      <td>0</td>\n",
              "    </tr>\n",
              "    <tr>\n",
              "      <th>...</th>\n",
              "      <td>...</td>\n",
              "      <td>...</td>\n",
              "      <td>...</td>\n",
              "      <td>...</td>\n",
              "      <td>...</td>\n",
              "      <td>...</td>\n",
              "      <td>...</td>\n",
              "    </tr>\n",
              "    <tr>\n",
              "      <th>2248</th>\n",
              "      <td>CUST0000999024</td>\n",
              "      <td>111.18</td>\n",
              "      <td>25</td>\n",
              "      <td>106</td>\n",
              "      <td>1.177778</td>\n",
              "      <td>1.235333</td>\n",
              "      <td>4</td>\n",
              "    </tr>\n",
              "    <tr>\n",
              "      <th>2249</th>\n",
              "      <td>CUST0000999109</td>\n",
              "      <td>2.52</td>\n",
              "      <td>1</td>\n",
              "      <td>2</td>\n",
              "      <td>1.000000</td>\n",
              "      <td>1.260000</td>\n",
              "      <td>0</td>\n",
              "    </tr>\n",
              "    <tr>\n",
              "      <th>2250</th>\n",
              "      <td>CUST0000999593</td>\n",
              "      <td>70.18</td>\n",
              "      <td>24</td>\n",
              "      <td>69</td>\n",
              "      <td>1.169492</td>\n",
              "      <td>1.189492</td>\n",
              "      <td>4</td>\n",
              "    </tr>\n",
              "    <tr>\n",
              "      <th>2251</th>\n",
              "      <td>CUST0000999935</td>\n",
              "      <td>65.47</td>\n",
              "      <td>13</td>\n",
              "      <td>58</td>\n",
              "      <td>1.208333</td>\n",
              "      <td>1.363958</td>\n",
              "      <td>4</td>\n",
              "    </tr>\n",
              "    <tr>\n",
              "      <th>2252</th>\n",
              "      <td>CUST0000999936</td>\n",
              "      <td>3.84</td>\n",
              "      <td>3</td>\n",
              "      <td>3</td>\n",
              "      <td>1.000000</td>\n",
              "      <td>1.280000</td>\n",
              "      <td>0</td>\n",
              "    </tr>\n",
              "  </tbody>\n",
              "</table>\n",
              "<p>2253 rows × 7 columns</p>\n",
              "</div>"
            ],
            "text/plain": [
              "           CUST_CODE  total_spend  ...  avg_spend  cluster\n",
              "0     CUST0000001194       282.18  ...   1.785949        2\n",
              "1     CUST0000002605         1.80  ...   0.300000        0\n",
              "2     CUST0000002637        35.78  ...   1.626364        0\n",
              "3     CUST0000002638         1.57  ...   1.570000        0\n",
              "4     CUST0000002813        41.95  ...   1.271212        0\n",
              "...              ...          ...  ...        ...      ...\n",
              "2248  CUST0000999024       111.18  ...   1.235333        4\n",
              "2249  CUST0000999109         2.52  ...   1.260000        0\n",
              "2250  CUST0000999593        70.18  ...   1.189492        4\n",
              "2251  CUST0000999935        65.47  ...   1.363958        4\n",
              "2252  CUST0000999936         3.84  ...   1.280000        0\n",
              "\n",
              "[2253 rows x 7 columns]"
            ]
          },
          "metadata": {
            "tags": []
          },
          "execution_count": 17
        }
      ]
    },
    {
      "cell_type": "code",
      "metadata": {
        "colab": {
          "base_uri": "https://localhost:8080/",
          "height": 235
        },
        "id": "fcKIa7IG5Vtg",
        "outputId": "bb22c94d-cd10-4b3f-92be-f236a6d251f3"
      },
      "source": [
        "dfCluster = cust.groupby('cluster', as_index=False).mean()\n",
        "dfCluster['NO_CUST'] = cust[['cluster','CUST_CODE']].groupby('cluster').count()\n",
        "\n",
        "dfCluster"
      ],
      "execution_count": null,
      "outputs": [
        {
          "output_type": "execute_result",
          "data": {
            "text/html": [
              "<div>\n",
              "<style scoped>\n",
              "    .dataframe tbody tr th:only-of-type {\n",
              "        vertical-align: middle;\n",
              "    }\n",
              "\n",
              "    .dataframe tbody tr th {\n",
              "        vertical-align: top;\n",
              "    }\n",
              "\n",
              "    .dataframe thead th {\n",
              "        text-align: right;\n",
              "    }\n",
              "</style>\n",
              "<table border=\"1\" class=\"dataframe\">\n",
              "  <thead>\n",
              "    <tr style=\"text-align: right;\">\n",
              "      <th></th>\n",
              "      <th>cluster</th>\n",
              "      <th>total_spend</th>\n",
              "      <th>total_visit</th>\n",
              "      <th>total_quantity</th>\n",
              "      <th>avg_quantity</th>\n",
              "      <th>avg_spend</th>\n",
              "      <th>NO_CUST</th>\n",
              "    </tr>\n",
              "  </thead>\n",
              "  <tbody>\n",
              "    <tr>\n",
              "      <th>0</th>\n",
              "      <td>0</td>\n",
              "      <td>23.996529</td>\n",
              "      <td>6.710618</td>\n",
              "      <td>18.205368</td>\n",
              "      <td>1.184419</td>\n",
              "      <td>1.548711</td>\n",
              "      <td>1714</td>\n",
              "    </tr>\n",
              "    <tr>\n",
              "      <th>1</th>\n",
              "      <td>1</td>\n",
              "      <td>314.563636</td>\n",
              "      <td>68.703349</td>\n",
              "      <td>234.488038</td>\n",
              "      <td>1.388340</td>\n",
              "      <td>1.894684</td>\n",
              "      <td>209</td>\n",
              "    </tr>\n",
              "    <tr>\n",
              "      <th>2</th>\n",
              "      <td>2</td>\n",
              "      <td>5.476667</td>\n",
              "      <td>1.333333</td>\n",
              "      <td>19.000000</td>\n",
              "      <td>14.333333</td>\n",
              "      <td>4.636667</td>\n",
              "      <td>3</td>\n",
              "    </tr>\n",
              "    <tr>\n",
              "      <th>3</th>\n",
              "      <td>3</td>\n",
              "      <td>60.038000</td>\n",
              "      <td>1.400000</td>\n",
              "      <td>9.200000</td>\n",
              "      <td>7.000000</td>\n",
              "      <td>41.890000</td>\n",
              "      <td>5</td>\n",
              "    </tr>\n",
              "    <tr>\n",
              "      <th>4</th>\n",
              "      <td>4</td>\n",
              "      <td>25.613069</td>\n",
              "      <td>3.833935</td>\n",
              "      <td>17.317690</td>\n",
              "      <td>2.449613</td>\n",
              "      <td>3.442148</td>\n",
              "      <td>277</td>\n",
              "    </tr>\n",
              "    <tr>\n",
              "      <th>5</th>\n",
              "      <td>5</td>\n",
              "      <td>885.078444</td>\n",
              "      <td>169.933333</td>\n",
              "      <td>651.911111</td>\n",
              "      <td>1.480579</td>\n",
              "      <td>2.033374</td>\n",
              "      <td>45</td>\n",
              "    </tr>\n",
              "  </tbody>\n",
              "</table>\n",
              "</div>"
            ],
            "text/plain": [
              "   cluster  total_spend  total_visit  ...  avg_quantity  avg_spend  NO_CUST\n",
              "0        0    23.996529     6.710618  ...      1.184419   1.548711     1714\n",
              "1        1   314.563636    68.703349  ...      1.388340   1.894684      209\n",
              "2        2     5.476667     1.333333  ...     14.333333   4.636667        3\n",
              "3        3    60.038000     1.400000  ...      7.000000  41.890000        5\n",
              "4        4    25.613069     3.833935  ...      2.449613   3.442148      277\n",
              "5        5   885.078444   169.933333  ...      1.480579   2.033374       45\n",
              "\n",
              "[6 rows x 7 columns]"
            ]
          },
          "metadata": {
            "tags": []
          },
          "execution_count": 12
        }
      ]
    },
    {
      "cell_type": "code",
      "metadata": {
        "colab": {
          "base_uri": "https://localhost:8080/",
          "height": 297
        },
        "id": "pWaA9Wcc5nYL",
        "outputId": "bdfe33dc-de7f-44df-8410-a282a0856349"
      },
      "source": [
        "import matplotlib.pyplot as plt\n",
        "import seaborn as sns\n",
        "\n",
        "plt.figure()\n",
        "fig, ax = plt.subplots()\n",
        "ax.scatter(dfCluster['total_spend'], dfCluster['total_visit'], s=dfCluster['NO_CUST'], alpha = 0.5)\n",
        "ax.set_xlabel(\"TOTAL_SPEND\")\n",
        "ax.set_ylabel(\"TOTAL_VISIT\")\n",
        "\n",
        "for i, txt in enumerate(dfCluster['cluster']):\n",
        "  ax.annotate(txt, (dfCluster['total_spend'][i], dfCluster[\"total_visit\"][i]), horizontalalignment='center', verticalalignment='center')\n",
        "\n",
        "plt.show()"
      ],
      "execution_count": null,
      "outputs": [
        {
          "output_type": "display_data",
          "data": {
            "text/plain": [
              "<Figure size 432x288 with 0 Axes>"
            ]
          },
          "metadata": {
            "tags": []
          }
        },
        {
          "output_type": "display_data",
          "data": {
            "image/png": "[encoded data removed]",
            "text/plain": [
              "<Figure size 432x288 with 1 Axes>"
            ]
          },
          "metadata": {
            "tags": [],
            "needs_background": "light"
          }
        }
      ]
    },
    {
      "cell_type": "code",
      "metadata": {
        "id": "cUtkMj3JS6c7",
        "colab": {
          "base_uri": "https://localhost:8080/",
          "height": 297
        },
        "outputId": "ff28186b-59f2-4d16-a7a3-4e0a4d98d5e4"
      },
      "source": [
        "plt.figure()\n",
        "fig, ax = plt.subplots()\n",
        "ax.scatter(dfCluster['avg_quantity'], dfCluster['avg_spend'], s=dfCluster['NO_CUST'], alpha = 0.5)\n",
        "ax.set_xlabel(\"avg_quantity\")\n",
        "ax.set_ylabel(\"avg_spend\")\n",
        "\n",
        "for i, txt in enumerate(dfCluster['cluster']):\n",
        "  ax.annotate(txt, (dfCluster['avg_quantity'][i], dfCluster[\"avg_spend\"][i]), horizontalalignment='center', verticalalignment='center')\n",
        "\n",
        "plt.show()"
      ],
      "execution_count": null,
      "outputs": [
        {
          "output_type": "display_data",
          "data": {
            "text/plain": [
              "<Figure size 432x288 with 0 Axes>"
            ]
          },
          "metadata": {
            "tags": []
          }
        },
        {
          "output_type": "display_data",
          "data": {
            "image/png": "[encoded data removed]",
            "text/plain": [
              "<Figure size 432x288 with 1 Axes>"
            ]
          },
          "metadata": {
            "tags": [],
            "needs_background": "light"
          }
        }
      ]
    },
    {
      "cell_type": "code",
      "metadata": {
        "id": "mGTyT8WlVSwC",
        "outputId": "1c42c1d1-0f26-45be-8b39-c33162fa2b50",
        "colab": {
          "base_uri": "https://localhost:8080/",
          "height": 1000
        }
      },
      "source": [
        "for i, col in enumerate(cust.columns[1:-1]):\n",
        "    sns.boxplot(x=\"cluster\", y =col, data=cust)\n",
        "    plt.show()"
      ],
      "execution_count": 26,
      "outputs": [
        {
          "output_type": "display_data",
          "data": {
            "image/png": "[encoded data removed]",
            "text/plain": [
              "<Figure size 432x288 with 1 Axes>"
            ]
          },
          "metadata": {
            "tags": [],
            "needs_background": "light"
          }
        },
        {
          "output_type": "display_data",
          "data": {
            "image/png": "[encoded data removed]",
            "text/plain": [
              "<Figure size 432x288 with 1 Axes>"
            ]
          },
          "metadata": {
            "tags": [],
            "needs_background": "light"
          }
        },
        {
          "output_type": "display_data",
          "data": {
            "image/png": "[encoded data removed]",
            "text/plain": [
              "<Figure size 432x288 with 1 Axes>"
            ]
          },
          "metadata": {
            "tags": [],
            "needs_background": "light"
          }
        },
        {
          "output_type": "display_data",
          "data": {
            "image/png": "[encoded data removed]",
            "text/plain": [
              "<Figure size 432x288 with 1 Axes>"
            ]
          },
          "metadata": {
            "tags": [],
            "needs_background": "light"
          }
        },
        {
          "output_type": "display_data",
          "data": {
            "image/png": "[encoded data removed]",
            "text/plain": [
              "<Figure size 432x288 with 1 Axes>"
            ]
          },
          "metadata": {
            "tags": [],
            "needs_background": "light"
          }
        }
      ]
    },
    {
      "cell_type": "code",
      "metadata": {
        "id": "pxxGPfY4V0z5",
        "outputId": "64e02dbf-1ab6-4f40-c64d-bd89bb8be783",
        "colab": {
          "base_uri": "https://localhost:8080/"
        }
      },
      "source": [
        "from sklearn.ensemble import RandomForestClassifier\n",
        "\n",
        "predictors = cust.iloc[:,1:-1]\n",
        "targets = cust.iloc[:,-1:]\n",
        "\n",
        "scaler = StandardScaler()\n",
        "predictors_scaled = scaler.fit_transform(predictors)\n",
        "\n",
        "classifier = RandomForestClassifier(n_estimators = 10, criterion = 'entropy', random_state = 42)\n",
        "classifier.fit(predictors_scaled, targets.values.ravel())"
      ],
      "execution_count": 27,
      "outputs": [
        {
          "output_type": "execute_result",
          "data": {
            "text/plain": [
              "RandomForestClassifier(bootstrap=True, ccp_alpha=0.0, class_weight=None,\n",
              "                       criterion='entropy', max_depth=None, max_features='auto',\n",
              "                       max_leaf_nodes=None, max_samples=None,\n",
              "                       min_impurity_decrease=0.0, min_impurity_split=None,\n",
              "                       min_samples_leaf=1, min_samples_split=2,\n",
              "                       min_weight_fraction_leaf=0.0, n_estimators=10,\n",
              "                       n_jobs=None, oob_score=False, random_state=42, verbose=0,\n",
              "                       warm_start=False)"
            ]
          },
          "metadata": {
            "tags": []
          },
          "execution_count": 27
        }
      ]
    },
    {
      "cell_type": "code",
      "metadata": {
        "id": "ZmW-W3_lWO8b",
        "outputId": "668b52f3-5f82-443d-f23b-39f915a0c645",
        "colab": {
          "base_uri": "https://localhost:8080/"
        }
      },
      "source": [
        "importances = list(classifier.feature_importances_)\n",
        "\n",
        "feature_list = list(predictors.columns)\n",
        "feature_importances = [(feature, round(importance, 2)) for feature, importance in zip(feature_list, importances)]\n",
        "feature_importances = sorted(feature_importances, key = lambda x: x[1], reverse = True)\n",
        "[print('Variable: {:20} Importance: {}'.format(*pair)) for pair in feature_importances];"
      ],
      "execution_count": 28,
      "outputs": [
        {
          "output_type": "stream",
          "text": [
            "Variable: avg_quantity         Importance: 0.36\n",
            "Variable: total_spend          Importance: 0.32\n",
            "Variable: total_quantity       Importance: 0.14\n",
            "Variable: avg_spend            Importance: 0.12\n",
            "Variable: total_visit          Importance: 0.06\n"
          ],
          "name": "stdout"
        }
      ]
    }
  ]
}